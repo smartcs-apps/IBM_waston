{
    "cells": [
        {
            "cell_type": "markdown",
            "metadata": {
                "collapsed": true
            },
            "source": "# My Jupyter Notebook on IBM Watson Studio"
        },
        {
            "cell_type": "markdown",
            "metadata": {},
            "source": "**Wessam Eldin Reda**\n\nDomain Technical Manager in Nokia UAE"
        },
        {
            "cell_type": "markdown",
            "metadata": {},
            "source": "_I am interested in Data Science because I need to get deep knowledge which will help me in my MBA (DS/AI). I am interested to work in this field in telecommunication_"
        },
        {
            "cell_type": "markdown",
            "metadata": {},
            "source": "### The below Code should print 'Hello World'"
        },
        {
            "cell_type": "code",
            "execution_count": 1,
            "metadata": {},
            "outputs": [
                {
                    "name": "stdout",
                    "output_type": "stream",
                    "text": "Hello World\n"
                }
            ],
            "source": "print(\"Hello World\")"
        },
        {
            "cell_type": "markdown",
            "metadata": {},
            "source": "> You miss 100% of the shots you don't take\n>\n\n - Wayne Gretzky\n - Micheal Scott\n\n<hr>\n\nMade with <3 [My Github](https://github.com/wessameldin)"
        }
    ],
    "metadata": {
        "kernelspec": {
            "display_name": "Python 3.7",
            "language": "python",
            "name": "python3"
        },
        "language_info": {
            "codemirror_mode": {
                "name": "ipython",
                "version": 3
            },
            "file_extension": ".py",
            "mimetype": "text/x-python",
            "name": "python",
            "nbconvert_exporter": "python",
            "pygments_lexer": "ipython3",
            "version": "3.7.9"
        }
    },
    "nbformat": 4,
    "nbformat_minor": 1
}